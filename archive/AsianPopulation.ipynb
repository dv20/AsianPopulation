{
 "cells": [
  {
   "cell_type": "code",
   "execution_count": 1,
   "metadata": {},
   "outputs": [],
   "source": [
    "# The results here are used to write the mentioned blog.\n",
    "# https://asiapopulation.blogspot.com/2021/12/asia-population-2020.html"
   ]
  },
  {
   "cell_type": "code",
   "execution_count": 2,
   "metadata": {},
   "outputs": [],
   "source": [
    "#import libraries\n",
    "import pandas as pd\n",
    "import numpy as np\n",
    "import matplotlib.pyplot as plt"
   ]
  },
  {
   "cell_type": "code",
   "execution_count": 3,
   "metadata": {},
   "outputs": [
    {
     "data": {
      "text/html": [
       "<div>\n",
       "<style scoped>\n",
       "    .dataframe tbody tr th:only-of-type {\n",
       "        vertical-align: middle;\n",
       "    }\n",
       "\n",
       "    .dataframe tbody tr th {\n",
       "        vertical-align: top;\n",
       "    }\n",
       "\n",
       "    .dataframe thead th {\n",
       "        text-align: right;\n",
       "    }\n",
       "</style>\n",
       "<table border=\"1\" class=\"dataframe\">\n",
       "  <thead>\n",
       "    <tr style=\"text-align: right;\">\n",
       "      <th></th>\n",
       "      <th>Country</th>\n",
       "      <th>Population</th>\n",
       "      <th>YearlyChange</th>\n",
       "      <th>NetChange</th>\n",
       "      <th>Density</th>\n",
       "      <th>LandArea</th>\n",
       "      <th>Migrants</th>\n",
       "      <th>FertRate</th>\n",
       "      <th>MedAge</th>\n",
       "      <th>UrbanPop</th>\n",
       "      <th>WorldShare</th>\n",
       "    </tr>\n",
       "  </thead>\n",
       "  <tbody>\n",
       "    <tr>\n",
       "      <th>0</th>\n",
       "      <td>Afghanistan</td>\n",
       "      <td>38928346</td>\n",
       "      <td>2.33</td>\n",
       "      <td>886592</td>\n",
       "      <td>60</td>\n",
       "      <td>652860</td>\n",
       "      <td>-62920</td>\n",
       "      <td>4.6</td>\n",
       "      <td>18</td>\n",
       "      <td>25.0</td>\n",
       "      <td>0.50</td>\n",
       "    </tr>\n",
       "    <tr>\n",
       "      <th>1</th>\n",
       "      <td>Armenia</td>\n",
       "      <td>2963243</td>\n",
       "      <td>0.19</td>\n",
       "      <td>5512</td>\n",
       "      <td>104</td>\n",
       "      <td>28470</td>\n",
       "      <td>-4998</td>\n",
       "      <td>1.8</td>\n",
       "      <td>35</td>\n",
       "      <td>63.0</td>\n",
       "      <td>0.04</td>\n",
       "    </tr>\n",
       "    <tr>\n",
       "      <th>2</th>\n",
       "      <td>Azerbaijan</td>\n",
       "      <td>10139177</td>\n",
       "      <td>0.91</td>\n",
       "      <td>91459</td>\n",
       "      <td>123</td>\n",
       "      <td>82658</td>\n",
       "      <td>1200</td>\n",
       "      <td>2.1</td>\n",
       "      <td>32</td>\n",
       "      <td>56.0</td>\n",
       "      <td>0.13</td>\n",
       "    </tr>\n",
       "    <tr>\n",
       "      <th>3</th>\n",
       "      <td>Bahrain</td>\n",
       "      <td>1701575</td>\n",
       "      <td>3.68</td>\n",
       "      <td>60403</td>\n",
       "      <td>2239</td>\n",
       "      <td>760</td>\n",
       "      <td>47800</td>\n",
       "      <td>2.0</td>\n",
       "      <td>32</td>\n",
       "      <td>89.0</td>\n",
       "      <td>0.02</td>\n",
       "    </tr>\n",
       "    <tr>\n",
       "      <th>4</th>\n",
       "      <td>Bangladesh</td>\n",
       "      <td>164689383</td>\n",
       "      <td>1.01</td>\n",
       "      <td>1643222</td>\n",
       "      <td>1265</td>\n",
       "      <td>130170</td>\n",
       "      <td>-369501</td>\n",
       "      <td>2.1</td>\n",
       "      <td>28</td>\n",
       "      <td>39.0</td>\n",
       "      <td>2.11</td>\n",
       "    </tr>\n",
       "  </tbody>\n",
       "</table>\n",
       "</div>"
      ],
      "text/plain": [
       "       Country  Population  YearlyChange  NetChange  Density  LandArea  \\\n",
       "0  Afghanistan    38928346          2.33     886592       60    652860   \n",
       "1      Armenia     2963243          0.19       5512      104     28470   \n",
       "2   Azerbaijan    10139177          0.91      91459      123     82658   \n",
       "3      Bahrain     1701575          3.68      60403     2239       760   \n",
       "4   Bangladesh   164689383          1.01    1643222     1265    130170   \n",
       "\n",
       "   Migrants  FertRate  MedAge  UrbanPop  WorldShare  \n",
       "0    -62920       4.6      18      25.0        0.50  \n",
       "1     -4998       1.8      35      63.0        0.04  \n",
       "2      1200       2.1      32      56.0        0.13  \n",
       "3     47800       2.0      32      89.0        0.02  \n",
       "4   -369501       2.1      28      39.0        2.11  "
      ]
     },
     "execution_count": 3,
     "metadata": {},
     "output_type": "execute_result"
    }
   ],
   "source": [
    "#load data\n",
    "df = pd.read_csv('AsiaPopulation2020.csv')\n",
    "df.head()"
   ]
  },
  {
   "cell_type": "code",
   "execution_count": 4,
   "metadata": {},
   "outputs": [
    {
     "data": {
      "text/plain": [
       "(51, 11)"
      ]
     },
     "execution_count": 4,
     "metadata": {},
     "output_type": "execute_result"
    }
   ],
   "source": [
    "df.shape"
   ]
  },
  {
   "cell_type": "code",
   "execution_count": 5,
   "metadata": {},
   "outputs": [
    {
     "data": {
      "text/html": [
       "<div>\n",
       "<style scoped>\n",
       "    .dataframe tbody tr th:only-of-type {\n",
       "        vertical-align: middle;\n",
       "    }\n",
       "\n",
       "    .dataframe tbody tr th {\n",
       "        vertical-align: top;\n",
       "    }\n",
       "\n",
       "    .dataframe thead th {\n",
       "        text-align: right;\n",
       "    }\n",
       "</style>\n",
       "<table border=\"1\" class=\"dataframe\">\n",
       "  <thead>\n",
       "    <tr style=\"text-align: right;\">\n",
       "      <th></th>\n",
       "      <th>Population</th>\n",
       "      <th>YearlyChange</th>\n",
       "      <th>NetChange</th>\n",
       "      <th>Density</th>\n",
       "      <th>LandArea</th>\n",
       "      <th>Migrants</th>\n",
       "      <th>FertRate</th>\n",
       "      <th>MedAge</th>\n",
       "      <th>UrbanPop</th>\n",
       "      <th>WorldShare</th>\n",
       "    </tr>\n",
       "  </thead>\n",
       "  <tbody>\n",
       "    <tr>\n",
       "      <th>count</th>\n",
       "      <td>5.100000e+01</td>\n",
       "      <td>51.000000</td>\n",
       "      <td>5.100000e+01</td>\n",
       "      <td>51.000000</td>\n",
       "      <td>5.100000e+01</td>\n",
       "      <td>51.000000</td>\n",
       "      <td>51.000000</td>\n",
       "      <td>51.000000</td>\n",
       "      <td>47.000000</td>\n",
       "      <td>51.000000</td>\n",
       "    </tr>\n",
       "    <tr>\n",
       "      <th>mean</th>\n",
       "      <td>9.100107e+07</td>\n",
       "      <td>1.267843</td>\n",
       "      <td>7.781094e+05</td>\n",
       "      <td>997.647059</td>\n",
       "      <td>6.084928e+05</td>\n",
       "      <td>-33904.235294</td>\n",
       "      <td>2.331373</td>\n",
       "      <td>30.862745</td>\n",
       "      <td>58.446809</td>\n",
       "      <td>1.168039</td>\n",
       "    </tr>\n",
       "    <tr>\n",
       "      <th>std</th>\n",
       "      <td>2.748929e+08</td>\n",
       "      <td>0.822083</td>\n",
       "      <td>2.111831e+06</td>\n",
       "      <td>3321.752241</td>\n",
       "      <td>1.430488e+06</td>\n",
       "      <td>135241.664715</td>\n",
       "      <td>0.805603</td>\n",
       "      <td>6.785336</td>\n",
       "      <td>22.701090</td>\n",
       "      <td>3.526507</td>\n",
       "    </tr>\n",
       "    <tr>\n",
       "      <th>min</th>\n",
       "      <td>4.374790e+05</td>\n",
       "      <td>-0.440000</td>\n",
       "      <td>-3.838400e+05</td>\n",
       "      <td>2.000000</td>\n",
       "      <td>3.000000e+01</td>\n",
       "      <td>-532687.000000</td>\n",
       "      <td>1.100000</td>\n",
       "      <td>18.000000</td>\n",
       "      <td>18.000000</td>\n",
       "      <td>0.010000</td>\n",
       "    </tr>\n",
       "    <tr>\n",
       "      <th>25%</th>\n",
       "      <td>5.104020e+06</td>\n",
       "      <td>0.805000</td>\n",
       "      <td>4.749550e+04</td>\n",
       "      <td>73.500000</td>\n",
       "      <td>2.505500e+04</td>\n",
       "      <td>-30006.000000</td>\n",
       "      <td>1.900000</td>\n",
       "      <td>26.000000</td>\n",
       "      <td>37.000000</td>\n",
       "      <td>0.070000</td>\n",
       "    </tr>\n",
       "    <tr>\n",
       "      <th>50%</th>\n",
       "      <td>1.671896e+07</td>\n",
       "      <td>1.300000</td>\n",
       "      <td>1.198730e+05</td>\n",
       "      <td>123.000000</td>\n",
       "      <td>1.433500e+05</td>\n",
       "      <td>-4000.000000</td>\n",
       "      <td>2.100000</td>\n",
       "      <td>30.000000</td>\n",
       "      <td>58.000000</td>\n",
       "      <td>0.210000</td>\n",
       "    </tr>\n",
       "    <tr>\n",
       "      <th>75%</th>\n",
       "      <td>4.574584e+07</td>\n",
       "      <td>1.710000</td>\n",
       "      <td>5.367205e+05</td>\n",
       "      <td>357.500000</td>\n",
       "      <td>4.904100e+05</td>\n",
       "      <td>23236.000000</td>\n",
       "      <td>2.800000</td>\n",
       "      <td>34.500000</td>\n",
       "      <td>78.500000</td>\n",
       "      <td>0.590000</td>\n",
       "    </tr>\n",
       "    <tr>\n",
       "      <th>max</th>\n",
       "      <td>1.439324e+09</td>\n",
       "      <td>3.680000</td>\n",
       "      <td>1.358663e+07</td>\n",
       "      <td>21645.000000</td>\n",
       "      <td>9.388211e+06</td>\n",
       "      <td>283922.000000</td>\n",
       "      <td>4.600000</td>\n",
       "      <td>48.000000</td>\n",
       "      <td>96.000000</td>\n",
       "      <td>18.470000</td>\n",
       "    </tr>\n",
       "  </tbody>\n",
       "</table>\n",
       "</div>"
      ],
      "text/plain": [
       "         Population  YearlyChange     NetChange       Density      LandArea  \\\n",
       "count  5.100000e+01     51.000000  5.100000e+01     51.000000  5.100000e+01   \n",
       "mean   9.100107e+07      1.267843  7.781094e+05    997.647059  6.084928e+05   \n",
       "std    2.748929e+08      0.822083  2.111831e+06   3321.752241  1.430488e+06   \n",
       "min    4.374790e+05     -0.440000 -3.838400e+05      2.000000  3.000000e+01   \n",
       "25%    5.104020e+06      0.805000  4.749550e+04     73.500000  2.505500e+04   \n",
       "50%    1.671896e+07      1.300000  1.198730e+05    123.000000  1.433500e+05   \n",
       "75%    4.574584e+07      1.710000  5.367205e+05    357.500000  4.904100e+05   \n",
       "max    1.439324e+09      3.680000  1.358663e+07  21645.000000  9.388211e+06   \n",
       "\n",
       "            Migrants   FertRate     MedAge   UrbanPop  WorldShare  \n",
       "count      51.000000  51.000000  51.000000  47.000000   51.000000  \n",
       "mean   -33904.235294   2.331373  30.862745  58.446809    1.168039  \n",
       "std    135241.664715   0.805603   6.785336  22.701090    3.526507  \n",
       "min   -532687.000000   1.100000  18.000000  18.000000    0.010000  \n",
       "25%    -30006.000000   1.900000  26.000000  37.000000    0.070000  \n",
       "50%     -4000.000000   2.100000  30.000000  58.000000    0.210000  \n",
       "75%     23236.000000   2.800000  34.500000  78.500000    0.590000  \n",
       "max    283922.000000   4.600000  48.000000  96.000000   18.470000  "
      ]
     },
     "execution_count": 5,
     "metadata": {},
     "output_type": "execute_result"
    }
   ],
   "source": [
    "#investigate the data set\n",
    "df.describe()"
   ]
  },
  {
   "cell_type": "code",
   "execution_count": 6,
   "metadata": {},
   "outputs": [
    {
     "data": {
      "text/plain": [
       "Country          object\n",
       "Population        int64\n",
       "YearlyChange    float64\n",
       "NetChange         int64\n",
       "Density           int64\n",
       "LandArea          int64\n",
       "Migrants          int64\n",
       "FertRate        float64\n",
       "MedAge            int64\n",
       "UrbanPop        float64\n",
       "WorldShare      float64\n",
       "dtype: object"
      ]
     },
     "execution_count": 6,
     "metadata": {},
     "output_type": "execute_result"
    }
   ],
   "source": [
    "#checking the data types\n",
    "df.dtypes"
   ]
  },
  {
   "cell_type": "code",
   "execution_count": 7,
   "metadata": {},
   "outputs": [
    {
     "data": {
      "text/plain": [
       "Country         0\n",
       "Population      0\n",
       "YearlyChange    0\n",
       "NetChange       0\n",
       "Density         0\n",
       "LandArea        0\n",
       "Migrants        0\n",
       "FertRate        0\n",
       "MedAge          0\n",
       "UrbanPop        4\n",
       "WorldShare      0\n",
       "dtype: int64"
      ]
     },
     "execution_count": 7,
     "metadata": {},
     "output_type": "execute_result"
    }
   ],
   "source": [
    "#check for null values\n",
    "df.isna().sum()"
   ]
  },
  {
   "cell_type": "code",
   "execution_count": 8,
   "metadata": {},
   "outputs": [],
   "source": [
    "#Questions to Answer:\n",
    "#total population of Asia\n",
    "#highest density country\n",
    "#top 5 highest percentage Urban population\n",
    "#highest median age"
   ]
  },
  {
   "cell_type": "code",
   "execution_count": 9,
   "metadata": {},
   "outputs": [
    {
     "data": {
      "text/plain": [
       "4641054775"
      ]
     },
     "execution_count": 9,
     "metadata": {},
     "output_type": "execute_result"
    }
   ],
   "source": [
    "#total population\n",
    "df['Population'].sum()"
   ]
  },
  {
   "cell_type": "code",
   "execution_count": 10,
   "metadata": {},
   "outputs": [],
   "source": [
    "#highest density country\n",
    "highest_density_country = (df['Density'].sort_values(ascending = False))[:6]\n",
    "countries = list(df['Country'][highest_density_country.index])"
   ]
  },
  {
   "cell_type": "code",
   "execution_count": 11,
   "metadata": {},
   "outputs": [
    {
     "data": {
      "image/png": "[encoded data removed]",
      "text/plain": [
       "<Figure size 432x288 with 1 Axes>"
      ]
     },
     "metadata": {
      "needs_background": "light"
     },
     "output_type": "display_data"
    }
   ],
   "source": [
    "# plotting above results\n",
    "fig, ax = plt.subplots()\n",
    "fig.suptitle('Highest density country', fontsize=20)\n",
    "plt.xlabel('Countries', fontsize=18)\n",
    "plt.ylabel('Country Density', fontsize=16)\n",
    "ax.bar(countries, highest_density_country, width=.5, edgecolor=\"white\", linewidth=0.7)\n",
    "plt.show()\n",
    "fig.savefig('density.jpg', bbox_inches='tight')"
   ]
  },
  {
   "cell_type": "code",
   "execution_count": 12,
   "metadata": {},
   "outputs": [],
   "source": [
    "#top 5 highest % Urban population\n",
    "df.dropna()\n",
    "highest_urban_population_percentage = (df['UrbanPop']/df['Population']).sort_values(ascending = False)[:6]\n",
    "country_urban = list(df['Country'][highest_urban_population_percentage.index])"
   ]
  },
  {
   "cell_type": "code",
   "execution_count": 13,
   "metadata": {},
   "outputs": [
    {
     "data": {
      "image/png": "[encoded data removed]",
      "text/plain": [
       "<Figure size 432x288 with 1 Axes>"
      ]
     },
     "metadata": {
      "needs_background": "light"
     },
     "output_type": "display_data"
    }
   ],
   "source": [
    "# plotting above results\n",
    "fig, ax = plt.subplots()\n",
    "fig.suptitle('Highest Urban Population Percent', fontsize=20)\n",
    "plt.xlabel('Countries', fontsize=16)\n",
    "plt.ylabel('Urban Population (in percent)', fontsize=16)\n",
    "ax.bar(country_urban, highest_urban_population_percentage, width=.5, edgecolor=\"white\", linewidth=0.8)\n",
    "plt.show()\n",
    "fig.savefig('urban.jpg', bbox_inches='tight')"
   ]
  },
  {
   "cell_type": "code",
   "execution_count": 14,
   "metadata": {},
   "outputs": [],
   "source": [
    "# highest median age\n",
    "top_10_median_age = (df['MedAge']).sort_values(ascending = False)[:5]\n",
    "country_med = list(df['Country'][top_10_median_age.index])"
   ]
  },
  {
   "cell_type": "code",
   "execution_count": 15,
   "metadata": {},
   "outputs": [
    {
     "data": {
      "image/png": "[encoded data removed]",
      "text/plain": [
       "<Figure size 432x288 with 1 Axes>"
      ]
     },
     "metadata": {
      "needs_background": "light"
     },
     "output_type": "display_data"
    }
   ],
   "source": [
    "# plotting above results\n",
    "fig, ax = plt.subplots()\n",
    "fig.suptitle('Median Age', fontsize=20)\n",
    "plt.xlabel('Countries', fontsize=18)\n",
    "plt.ylabel('Median Age', fontsize=16)\n",
    "ax.bar(country_med, top_10_median_age, width=.5, edgecolor=\"white\", linewidth=0.7)\n",
    "plt.show()\n",
    "fig.savefig('medage.jpg', bbox_inches='tight')"
   ]
  },
  {
   "cell_type": "code",
   "execution_count": null,
   "metadata": {},
   "outputs": [],
   "source": []
  }
 ],
 "metadata": {
  "kernelspec": {
   "display_name": "Python 3",
   "language": "python",
   "name": "python3"
  },
  "language_info": {
   "codemirror_mode": {
    "name": "ipython",
    "version": 3
   },
   "file_extension": ".py",
   "mimetype": "text/x-python",
   "name": "python",
   "nbconvert_exporter": "python",
   "pygments_lexer": "ipython3",
   "version": "3.6.8"
  }
 },
 "nbformat": 4,
 "nbformat_minor": 4
}
